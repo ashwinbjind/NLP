{
 "cells": [
  {
   "cell_type": "code",
   "execution_count": 2,
   "metadata": {},
   "outputs": [],
   "source": [
    "import os\n",
    "import nltk            # Natural langauge Tool Kit\n",
    "import nltk.corpus"
   ]
  },
  {
   "cell_type": "code",
   "execution_count": null,
   "metadata": {},
   "outputs": [
    {
     "name": "stdout",
     "output_type": "stream",
     "text": [
      "showing info https://raw.githubusercontent.com/nltk/nltk_data/gh-pages/index.xml\n"
     ]
    }
   ],
   "source": [
    "nltk.download()"
   ]
  },
  {
   "cell_type": "code",
   "execution_count": 3,
   "metadata": {},
   "outputs": [
    {
     "name": "stderr",
     "output_type": "stream",
     "text": [
      "[nltk_data] Downloading package punkt to\n",
      "[nltk_data]     C:\\Users\\AJ\\AppData\\Roaming\\nltk_data...\n",
      "[nltk_data]   Unzipping tokenizers\\punkt.zip.\n"
     ]
    },
    {
     "data": {
      "text/plain": [
       "True"
      ]
     },
     "execution_count": 3,
     "metadata": {},
     "output_type": "execute_result"
    }
   ],
   "source": [
    "nltk.download('punkt')"
   ]
  },
  {
   "cell_type": "markdown",
   "metadata": {},
   "source": [
    "## Tokanization"
   ]
  },
  {
   "cell_type": "code",
   "execution_count": 4,
   "metadata": {},
   "outputs": [
    {
     "name": "stdout",
     "output_type": "stream",
     "text": [
      "['All', 'work', 'and', 'no', 'play', 'makes', 'jack', 'a', 'dull', 'boy', ',', 'all', 'work', 'and', 'no', 'play']\n"
     ]
    }
   ],
   "source": [
    "from nltk.tokenize import sent_tokenize, word_tokenize\n",
    "\n",
    "data = \"All work and no play makes jack a dull boy, all work and no play\"\n",
    "print(word_tokenize(data))"
   ]
  },
  {
   "cell_type": "code",
   "execution_count": 6,
   "metadata": {},
   "outputs": [],
   "source": [
    "paragraph = '''I have three visions for India. In 3000 years of our history people from all over\n",
    "the world have come and invaded us, captured our lands, conquered our minds. \n",
    "From Alexander onwards the Greeks, the Turks, the Moguls, the Portuguese, the British, the French, \n",
    "the Dutch, all of them came and looted us, took over what was ours. Yet we have not done this to any \n",
    "other nation. We have not conquered anyone. We have not grabbed their land, their culture and their history \n",
    "and tried to enforce our way of life on them. Why? Because we respect the freedom of others. \n",
    "That is why my FIRST VISION is that of FREEDOM. I believe that India got its first vision of this in 1857, \n",
    "when we started the war of Independence. It is this freedom that we must protect and nurture and build on. \n",
    "If we are not free, no one will respect us.\n",
    "We have 10 percent growth rate in most areas.Our poverty levels are falling. Our achievements are being \n",
    "globally recognised today. Yet we lack the self-confidence to see ourselves as a developed nation, self-reliant \n",
    "and self-assured. Isn’t this incorrect? MY SECOND VISION for India is DEVELOPMENT. For fifty years we have been \n",
    "a developing nation. It is time we see ourselves as a developed nation. We are among top five nations in the world in \n",
    "terms of GDP.\n",
    "I have a THIRD VISION. India must stand up to the world. Because I believe that unless India stands up to the world, \n",
    "no one will respect us. Only strength respects strength. We must be strong not only as a military power but also as \n",
    "an economic power. Both must go hand-in-hand. My good fortune was to have worked with three great minds. \n",
    "Dr.Vikram Sarabhai, of the Dept. of Space, Professor Satish Dhawan, who succeeded him and Dr. Brahm Prakash,\n",
    "father of nuclear material. I was lucky to have worked with all three of them closely and consider this the \n",
    "great opportunity of my life.'''"
   ]
  },
  {
   "cell_type": "markdown",
   "metadata": {},
   "source": [
    "## -  sentenceTokenazetion\n",
    "## -  Word Tokenazetion"
   ]
  },
  {
   "cell_type": "code",
   "execution_count": 7,
   "metadata": {},
   "outputs": [
    {
     "name": "stdout",
     "output_type": "stream",
     "text": [
      "30\n"
     ]
    }
   ],
   "source": [
    "sentences = nltk.sent_tokenize(paragraph)\n",
    "count_sen=0\n",
    "for sen in sentences:\n",
    "    count_sen=count_sen+1\n",
    "print(count_sen)\n",
    "    "
   ]
  },
  {
   "cell_type": "code",
   "execution_count": 8,
   "metadata": {},
   "outputs": [],
   "source": [
    "words = nltk.word_tokenize(paragraph)"
   ]
  },
  {
   "cell_type": "code",
   "execution_count": 12,
   "metadata": {},
   "outputs": [
    {
     "name": "stdout",
     "output_type": "stream",
     "text": [
      "387\n"
     ]
    }
   ],
   "source": [
    "count=0\n",
    "for word in words:\n",
    "    count=count+1\n",
    "print(count)"
   ]
  },
  {
   "cell_type": "code",
   "execution_count": 19,
   "metadata": {},
   "outputs": [],
   "source": [
    "import nltk\n",
    "from nltk.stem   import PorterStemmer\n",
    "from nltk.corpus import stopwords"
   ]
  },
  {
   "cell_type": "code",
   "execution_count": 17,
   "metadata": {},
   "outputs": [],
   "source": [
    "paragraph2 =\"\"\"I have three visions for India. In 3000 years of our history, people from all over \n",
    "               the world have come and invaded us, captured our lands, conquered our minds. \n",
    "               From Alexander onwards, the Greeks, the Turks, the Moguls, the Portuguese, the British,\n",
    "               the French, the Dutch, all of them came and looted us, took over what was ours. \n",
    "               Yet we have not done this to any other nation. We have not conquered anyone. \n",
    "               We have not grabbed their land, their culture, \n",
    "               their history and tried to enforce our way of life on them. \n",
    "               Why? Because we respect the freedom of others.That is why my \n",
    "               first vision is that of freedom. I believe that India got its first vision of \n",
    "               this in 1857, when we started the War of Independence. It is this freedom that\n",
    "               we must protect and nurture and build on. If we are not free, no one will respect us.\n",
    "               My second vision for India’s development. For fifty years we have been a developing nation.\n",
    "               It is time we see ourselves as a developed nation. We are among the top 5 nations of the world\n",
    "               in terms of GDP. We have a 10 percent growth rate in most areas. Our poverty levels are falling.\n",
    "               Our achievements are being globally recognised today. Yet we lack the self-confidence to\n",
    "               see ourselves as a developed nation, self-reliant and self-assured. Isn’t this incorrect?\n",
    "               I have a third vision. India must stand up to the world. Because I believe that unless India \n",
    "               stands up to the world, no one will respect us. Only strength respects strength. We must be \n",
    "               strong not only as a military power but also as an economic power. Both must go hand-in-hand. \n",
    "               My good fortune was to have worked with three great minds. Dr. Vikram Sarabhai of the Dept. of \n",
    "               space, Professor Satish Dhawan, who succeeded him and Dr. Brahm Prakash, father of nuclear material.\n",
    "               I was lucky to have worked with all three of them closely and consider this the great opportunity of my life. \n",
    "               I see four milestones in my career\"\"\""
   ]
  },
  {
   "cell_type": "code",
   "execution_count": 19,
   "metadata": {},
   "outputs": [],
   "source": [
    "sentences=nltk.sent_tokenize(paragraph2)\n",
    "stemmer =PorterStemmer()"
   ]
  },
  {
   "cell_type": "markdown",
   "metadata": {},
   "source": [
    "## StopWords"
   ]
  },
  {
   "cell_type": "code",
   "execution_count": 25,
   "metadata": {},
   "outputs": [
    {
     "name": "stdout",
     "output_type": "stream",
     "text": [
      "['i', 'me', 'my', 'myself', 'we', 'our', 'ours', 'ourselves', 'you', \"you're\", \"you've\", \"you'll\", \"you'd\", 'your', 'yours', 'yourself', 'yourselves', 'he', 'him', 'his', 'himself', 'she', \"she's\", 'her', 'hers', 'herself', 'it', \"it's\", 'its', 'itself', 'they', 'them', 'their', 'theirs', 'themselves', 'what', 'which', 'who', 'whom', 'this', 'that', \"that'll\", 'these', 'those', 'am', 'is', 'are', 'was', 'were', 'be', 'been', 'being', 'have', 'has', 'had', 'having', 'do', 'does', 'did', 'doing', 'a', 'an', 'the', 'and', 'but', 'if', 'or', 'because', 'as', 'until', 'while', 'of', 'at', 'by', 'for', 'with', 'about', 'against', 'between', 'into', 'through', 'during', 'before', 'after', 'above', 'below', 'to', 'from', 'up', 'down', 'in', 'out', 'on', 'off', 'over', 'under', 'again', 'further', 'then', 'once', 'here', 'there', 'when', 'where', 'why', 'how', 'all', 'any', 'both', 'each', 'few', 'more', 'most', 'other', 'some', 'such', 'no', 'nor', 'not', 'only', 'own', 'same', 'so', 'than', 'too', 'very', 's', 't', 'can', 'will', 'just', 'don', \"don't\", 'should', \"should've\", 'now', 'd', 'll', 'm', 'o', 're', 've', 'y', 'ain', 'aren', \"aren't\", 'couldn', \"couldn't\", 'didn', \"didn't\", 'doesn', \"doesn't\", 'hadn', \"hadn't\", 'hasn', \"hasn't\", 'haven', \"haven't\", 'isn', \"isn't\", 'ma', 'mightn', \"mightn't\", 'mustn', \"mustn't\", 'needn', \"needn't\", 'shan', \"shan't\", 'shouldn', \"shouldn't\", 'wasn', \"wasn't\", 'weren', \"weren't\", 'won', \"won't\", 'wouldn', \"wouldn't\"]\n",
      "179\n"
     ]
    }
   ],
   "source": [
    "lst=stopwords.words(\"english\")\n",
    "print(lst)\n",
    "count3=0\n",
    "for i in lst:\n",
    "    count3=count3+1\n",
    "print(count3)"
   ]
  },
  {
   "cell_type": "markdown",
   "metadata": {},
   "source": [
    "## Stemming"
   ]
  },
  {
   "cell_type": "code",
   "execution_count": 29,
   "metadata": {},
   "outputs": [
    {
     "name": "stdout",
     "output_type": "stream",
     "text": [
      "['I', 'three', 'vision', 'india', '.']\n",
      "['In', '3000', 'year', 'histori', ',', 'peopl', 'world', 'come', 'invad', 'us', ',', 'captur', 'land', ',', 'conquer', 'mind', '.']\n",
      "['alexand', 'onward', ',', 'greek', ',', 'turk', ',', 'mogul', ',', 'portugu', ',', 'british', ',', 'french', ',', 'dutch', ',', 'came', 'loot', 'us', ',', 'took', '.']\n",
      "['yet', 'done', 'nation', '.']\n",
      "['We', 'conquer', 'anyon', '.']\n",
      "['We', 'grab', 'land', ',', 'cultur', ',', 'histori', 'tri', 'enforc', 'way', 'life', '.']\n",
      "['whi', '?']\n",
      "['becau', 'respect', 'freedom', 'others.that', 'first', 'vision', 'freedom', '.']\n",
      "['I', 'believ', 'india', 'got', 'first', 'vision', '1857', ',', 'start', 'war', 'independ', '.']\n",
      "['It', 'freedom', 'must', 'protect', 'nurtur', 'build', '.']\n",
      "['If', 'free', ',', 'one', 'respect', 'us', '.']\n",
      "['My', 'second', 'vision', 'india', '’', 'develop', '.']\n",
      "['fifti', 'year', 'develop', 'nation', '.']\n",
      "['It', 'time', 'see', 'develop', 'nation', '.']\n",
      "['We', 'among', 'top', '5', 'nation', 'world', 'term', 'gdp', '.']\n",
      "['We', '10', 'percent', 'growth', 'rate', 'area', '.']\n",
      "['poverti', 'level', 'fall', '.']\n",
      "['achiev', 'global', 'recogni', 'today', '.']\n",
      "['yet', 'lack', 'self-confid', 'see', 'develop', 'nation', ',', 'self-r', 'self-assur', '.']\n",
      "['’', 'incorrect', '?']\n",
      "['I', 'third', 'vision', '.']\n",
      "['india', 'must', 'stand', 'world', '.']\n",
      "['becau', 'I', 'believ', 'unless', 'india', 'stand', 'world', ',', 'one', 'respect', 'us', '.']\n",
      "['onli', 'strength', 'respect', 'strength', '.']\n",
      "['We', 'must', 'strong', 'militari', 'power', 'also', 'econom', 'power', '.']\n",
      "['must', 'go', 'hand-in-hand', '.']\n",
      "['My', 'good', 'fortun', 'work', 'three', 'great', 'mind', '.']\n",
      "['dr.', 'vikram', 'sarabhai', 'dept', '.']\n",
      "['space', ',', 'professor', 'satish', 'dhawan', ',', 'succeed', 'dr.', 'brahm', 'prakash', ',', 'father', 'nuclear', 'materi', '.']\n",
      "['I', 'lucki', 'work', 'three', 'close', 'consid', 'great', 'opportun', 'life', '.']\n",
      "['I', 'see', 'four', 'mileston', 'career']\n"
     ]
    }
   ],
   "source": [
    "for i in range (len(sentences)):\n",
    "    words=nltk.word_tokenize(sentences[i])\n",
    "    words=[stemmer.stem(word) for word in words if word not in set (stopwords.words(\"english\"))]\n",
    "    sentences[i]=' '.join(words)\n",
    "    print(words)"
   ]
  },
  {
   "cell_type": "code",
   "execution_count": 20,
   "metadata": {},
   "outputs": [
    {
     "name": "stderr",
     "output_type": "stream",
     "text": [
      "[nltk_data] Downloading package wordnet to\n",
      "[nltk_data]     C:\\Users\\AJ\\AppData\\Roaming\\nltk_data...\n",
      "[nltk_data]   Package wordnet is already up-to-date!\n"
     ]
    },
    {
     "data": {
      "text/plain": [
       "True"
      ]
     },
     "execution_count": 20,
     "metadata": {},
     "output_type": "execute_result"
    }
   ],
   "source": [
    "from nltk.stem import WordNetLemmatizer\n",
    "lemmatizer = WordNetLemmatizer ()\n",
    "nltk.download('wordnet')"
   ]
  },
  {
   "cell_type": "raw",
   "metadata": {},
   "source": []
  },
  {
   "cell_type": "markdown",
   "metadata": {},
   "source": [
    "## Lemmatization"
   ]
  },
  {
   "cell_type": "code",
   "execution_count": 32,
   "metadata": {},
   "outputs": [
    {
     "data": {
      "text/plain": [
       "range(0, 31)"
      ]
     },
     "execution_count": 32,
     "metadata": {},
     "output_type": "execute_result"
    }
   ],
   "source": [
    "range(len(sentences))"
   ]
  },
  {
   "cell_type": "code",
   "execution_count": 10,
   "metadata": {},
   "outputs": [
    {
     "name": "stdout",
     "output_type": "stream",
     "text": [
      "['I', 'three', 'vision', 'India', '.']\n",
      "['In', '3000', 'year', 'history', 'people', 'world', 'come', 'invaded', 'u', ',', 'captured', 'land', ',', 'conquered', 'mind', '.']\n",
      "['From', 'Alexander', 'onwards', 'Greeks', ',', 'Turks', ',', 'Moguls', ',', 'Portuguese', ',', 'British', ',', 'French', ',', 'Dutch', ',', 'came', 'looted', 'u', ',', 'took', '.']\n",
      "['Yet', 'done', 'nation', '.']\n",
      "['We', 'conquered', 'anyone', '.']\n",
      "['We', 'grabbed', 'land', ',', 'culture', 'history', 'tried', 'enforce', 'way', 'life', '.']\n",
      "['Why', '?']\n",
      "['Because', 'respect', 'freedom', 'others', '.']\n",
      "['That', 'FIRST', 'VISION', 'FREEDOM', '.']\n",
      "['I', 'believe', 'India', 'got', 'first', 'vision', '1857', ',', 'started', 'war', 'Independence', '.']\n",
      "['It', 'freedom', 'must', 'protect', 'nurture', 'build', '.']\n",
      "['If', 'free', ',', 'one', 'respect', 'u', '.']\n",
      "['We', '10', 'percent', 'growth', 'rate', 'areas.Our', 'poverty', 'level', 'falling', '.']\n",
      "['Our', 'achievement', 'globally', 'recognised', 'today', '.']\n",
      "['Yet', 'lack', 'self-confidence', 'see', 'developed', 'nation', ',', 'self-reliant', 'self-assured', '.']\n",
      "['Isn', '’', 'incorrect', '?']\n",
      "['MY', 'SECOND', 'VISION', 'India', 'DEVELOPMENT', '.']\n",
      "['For', 'fifty', 'year', 'developing', 'nation', '.']\n",
      "['It', 'time', 'see', 'developed', 'nation', '.']\n",
      "['We', 'among', 'top', 'five', 'nation', 'world', 'term', 'GDP', '.']\n",
      "['I', 'THIRD', 'VISION', '.']\n",
      "['India', 'must', 'stand', 'world', '.']\n",
      "['Because', 'I', 'believe', 'unless', 'India', 'stand', 'world', ',', 'one', 'respect', 'u', '.']\n",
      "['Only', 'strength', 'respect', 'strength', '.']\n",
      "['We', 'must', 'strong', 'military', 'power', 'also', 'economic', 'power', '.']\n",
      "['Both', 'must', 'go', 'hand-in-hand', '.']\n",
      "['My', 'good', 'fortune', 'worked', 'three', 'great', 'mind', '.']\n",
      "['Dr.Vikram', 'Sarabhai', ',', 'Dept', '.']\n",
      "['Space', ',', 'Professor', 'Satish', 'Dhawan', ',', 'succeeded', 'Dr.', 'Brahm', 'Prakash', ',', 'father', 'nuclear', 'material', '.']\n",
      "['I', 'lucky', 'worked', 'three', 'closely', 'consider', 'great', 'opportunity', 'life', '.']\n"
     ]
    }
   ],
   "source": [
    "for i in range(len(sentences)):\n",
    "    words=nltk.word_tokenize(sentences[i])\n",
    "    words=[lemmatizer.lemmatize(word) for word in words if word not in set (stopwords.words(\"english\"))]\n",
    "    sentences[i]=' '.join(words)\n",
    "    print(words)"
   ]
  },
  {
   "cell_type": "markdown",
   "metadata": {},
   "source": [
    "## Bag of Word"
   ]
  },
  {
   "cell_type": "code",
   "execution_count": 11,
   "metadata": {},
   "outputs": [],
   "source": [
    "import re # re ---> regular expression."
   ]
  },
  {
   "cell_type": "code",
   "execution_count": 14,
   "metadata": {},
   "outputs": [],
   "source": [
    "ps =PorterStemmer\n",
    "wordnet=WordNetLemmatizer()\n",
    "sentences = nltk.sent_tokenize(paragraph)\n",
    "corpus=[]"
   ]
  },
  {
   "cell_type": "code",
   "execution_count": null,
   "metadata": {},
   "outputs": [],
   "source": []
  },
  {
   "cell_type": "code",
   "execution_count": null,
   "metadata": {},
   "outputs": [],
   "source": []
  }
 ],
 "metadata": {
  "kernelspec": {
   "display_name": "Python 3",
   "language": "python",
   "name": "python3"
  },
  "language_info": {
   "codemirror_mode": {
    "name": "ipython",
    "version": 3
   },
   "file_extension": ".py",
   "mimetype": "text/x-python",
   "name": "python",
   "nbconvert_exporter": "python",
   "pygments_lexer": "ipython3",
   "version": "3.8.3"
  }
 },
 "nbformat": 4,
 "nbformat_minor": 4
}
